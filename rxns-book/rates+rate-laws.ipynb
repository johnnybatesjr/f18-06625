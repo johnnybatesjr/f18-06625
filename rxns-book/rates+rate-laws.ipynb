{
 "cells": [
  {
   "cell_type": "markdown",
   "metadata": {},
   "source": [
    "$$\\require{mhchem}$$       "
   ]
  },
  {
   "cell_type": "markdown",
   "metadata": {},
   "source": [
    "# Announcements"
   ]
  },
  {
   "cell_type": "markdown",
   "metadata": {},
   "source": [
    "##  Demo of fixing pdf conversion"
   ]
  },
  {
   "cell_type": "markdown",
   "metadata": {},
   "source": [
    "## Outstanding docker issues?"
   ]
  },
  {
   "cell_type": "markdown",
   "metadata": {},
   "source": [
    "- Blank folder when using jupyter"
   ]
  },
  {
   "cell_type": "markdown",
   "metadata": {},
   "source": [
    "\n",
    "# Reaction rates and rate laws\n",
    "\n"
   ]
  },
  {
   "cell_type": "markdown",
   "metadata": {},
   "source": [
    "\n",
    "## The rate of a reaction\n",
    "\n"
   ]
  },
  {
   "cell_type": "markdown",
   "metadata": {},
   "source": [
    "-   We are now in a position to define the rate of a reaction as:\n",
    "\n",
    "\\begin{equation}\n",
    "R^* = \\frac{dX}{dt}\n",
    "\\end{equation}\n",
    "\n",
    "-   which is the rate of the change of the extensive reaction extent. Note that this is:\n",
    "\n",
    "-   Independent of any particular species\n",
    "-   Dependent on how the reaction is written\n",
    "\n",
    "-   The second point is a result of how we defined $X$.\n",
    "\n",
    "-   For the reaction $\\ce{2H2 + O2 -> 2H2O}$ we defined:\n",
    "\n",
    "\\begin{equation}\n",
    "\\frac{N_{A_1} - N_{A_1,0}}{-2} = \\frac{N_{A_2} - N_{A_2,0}}{-1} = \\frac{N_{A_3} - N_{A_3,0}}{2} = X\n",
    "\\end{equation}\n",
    "\n",
    "-   For the reaction $\\ce{H2 + 1/2O2 -> H2O}$  we can define:\n",
    "\n",
    "\\begin{equation}\n",
    "\\frac{N_{A_1} - N_{A_1,0}}{-1} = \\frac{N_{A_2} - N_{A_2,0}}{-0.5} = \\frac{N_{A_3} - N_{A_3,0}}{1} = X'\n",
    "\\end{equation}\n",
    "\n",
    "-   You can see that $X$ depends on the stoichiometric coefficients, so we have to know the reaction and how it was written when we discuss reaction rates.\n",
    "\n",
    "-   $X$ is an extensive variable with units of moles\n",
    "\n",
    "Exercise: Suppose we start with 2 moles of oxygen at t=0 in a reactor. Later,  there is 1.4 moles of oxygen remaining. Calculate the extent of reaction for these two reactions. Use the extent to determine how much hydrogen is remaining.\n",
    "\n",
    "1. $\\ce{2H2 + O2 -> 2H2O}$\n",
    "\n",
    "2.  $\\ce{H2 + 1/2O2 -> H2O}$\n",
    "\n"
   ]
  },
  {
   "cell_type": "markdown",
   "metadata": {},
   "source": [
    "\n",
    "## The rate of disappearance of a reactant\n",
    "\n"
   ]
  },
  {
   "cell_type": "markdown",
   "metadata": {},
   "source": [
    "-   Now, recalling that $X = \\frac{N_{A_j} - N_{A_j,0}}{\\alpha_j}$, we arrive at:\n",
    "\n",
    "\\begin{equation}\n",
    "\\frac{dX}{dt} = \\frac{1}{\\alpha_j} \\frac{dN_{A_J}}{dt}\n",
    "\\end{equation}\n",
    "\n",
    "or rearranging, and using $R^*$:\n",
    "\n",
    "\\begin{equation}\n",
    "\\frac{dN_{A_J}}{dt} = \\alpha_j R^*\n",
    "\\end{equation}\n",
    "\n",
    "-   Thus, the change in composition of species J *due to the reaction* is just the stoichiometric coefficient for that species times the reaction rate. If the volume is constant:\n",
    "\n",
    "\\begin{equation}\n",
    "r = R^* / V = \\frac{d\\xi}{dt}\n",
    "\\end{equation}\n",
    "\n",
    "This defines the intensive reaction rate, with units of mol / vol / time.\n",
    "\n",
    "That also leads to (only for constant volume!)\n",
    "\n",
    "\\begin{equation}\n",
    "\\frac{dC_{A_J}}{dt} = \\alpha_j r\n",
    "\\end{equation}\n",
    "\n",
    "-   We define the species rate of production as:\n",
    "\n",
    "\\begin{equation}\n",
    "r_j = \\alpha_j r\n",
    "\\end{equation}\n",
    "\n",
    "-   This is **NOT** the rate law!\n",
    "    -   It is a relationship between the rate of appearance of a species and the reaction rate\n",
    "    \n",
    "    -   One of our goals is to find the function that describes the rate of the reaction and its dependence on concentration and temperature\n",
    "    \n",
    "    -   This will come later in the course.\n",
    "\n"
   ]
  },
  {
   "cell_type": "markdown",
   "metadata": {},
   "source": [
    "\n",
    "## Rates of disappearance and appearance of other species\n",
    "\n"
   ]
  },
  {
   "cell_type": "markdown",
   "metadata": {},
   "source": [
    "-   The stoichiometric coefficients define the rates of appearance and disappearance of other species.\n",
    "\n",
    "\\begin{equation}\n",
    "r = \\frac {r_{A_1}}{\\alpha_1} = \\frac{r_{A_2}}{\\alpha_2}  = \\frac{r_{A_3}}{\\alpha_3} \\cdots\n",
    "\\end{equation}\n",
    "\n",
    "-   Remember that stoichiometric coefficients of reactants are negative, and products are positive\n",
    "\n",
    "-   We call $r$ the rate of the reaction with units (typically) mol / vol / time\n",
    "\n",
    "-   The rate of disappearance of species $A_1$ is $r_{A_1} = \\alpha_1 r$\n",
    "\n",
    "-   The rate generally depends on the concentration of reactants (and sometimes products), as well as the temperature of the reactor.\n",
    "\n"
   ]
  },
  {
   "cell_type": "markdown",
   "metadata": {},
   "source": [
    "\n",
    "### Practice\n",
    "\n"
   ]
  },
  {
   "cell_type": "markdown",
   "metadata": {},
   "source": [
    "The ethylene epoxidation reaction has the following stoichiometry:\n",
    "\n",
    "\\begin{equation}\n",
    "\\ce{C2H4 + 1/2O2 -> C2H4O}\n",
    "\\end{equation}\n",
    "\n",
    "If we have a reactor with one mole of ethylene and one mole of oxygen, which reactant is stoichiometrically limiting? Ethylene or oxygen?\n",
    "\n",
    "If oxygen is consumed at 1 mol/min, what is the rate of ethylene consumption? [1/2 mol/min, 1 mol/min, 2 mol/min]?\n",
    "\n",
    "What is the maximum amount of ethylene oxide that can be produced? [1/2 mol, 1 mol, 2 mol]\n",
    "\n"
   ]
  },
  {
   "cell_type": "markdown",
   "metadata": {},
   "source": [
    "\n",
    "## Rate laws\n",
    "\n"
   ]
  },
  {
   "cell_type": "markdown",
   "metadata": {},
   "source": [
    "-   The rate law is an algebraic equation that relates the rate of reaction to the concentrations of reactants, products and temperature.\n",
    "\n",
    "-   Law of mass action for elementary steps:\n",
    "    -   Reaction rate is proportional to the concentration of each reactant raised to its stoichiometric coefficient\n",
    "    -   That is the definition of an elementary reaction\n",
    "    -   For example: $A + B \\rightarrow C$\n",
    "        -   $r = k C_A C_B$\n",
    "    \n",
    "    -   $2A \\rightarrow B$\n",
    "        -   $r = k C_A^2$\n",
    "\n",
    "-   Many other more complex rate laws exist for non-elementary reactions\n",
    "    -   $r = \\frac {k_1 C_A}{1 + k_2 C_A}$ e.g. for surface reactions or enzyme reactions\n",
    "    \n",
    "    -   $r = k C_A^{3/2}$ for complex mechanisms\n",
    "\n",
    "-   Rate laws are ultimately determined from experiments\n",
    "\n",
    "-   We use these rate laws in conjunction with stoichiometry and mole balances to design reactors.\n",
    "\n"
   ]
  },
  {
   "cell_type": "markdown",
   "metadata": {},
   "source": [
    "\n",
    "# ODEs in python\n",
    "\n"
   ]
  },
  {
   "cell_type": "markdown",
   "metadata": {},
   "source": [
    "We solve ordinary differential equations in the form  of $f'(X) = f(X, f, f')$. We will use numerical integration to solve these kinds of equations. These basically work by integrating the equations from some known initial condition on some range of the independent variable.  [odeint](odeint)\n",
    "\n",
    "[scipy.integrate.odeint](https://docs.scipy.org/doc/scipy/reference/generated/scipy.integrate.odeint.html)\n",
    "\n",
    "Let us consider $\\frac{dy}{dx} = y(x)$ with $y(0) = 1$. Let us evaluate the solution from x=0 to x=2. The solution to this ODE is simply $y(x) = e^x$, and we plot that for comparison.\n",
    "\n",
    "We have to define a function in Python to define f(X, f, f').\n",
    "\n"
   ]
  },
  {
   "cell_type": "code",
   "execution_count": 3,
   "metadata": {},
   "outputs": [
    {
     "data": {
      "image/png": "[encoded data removed]",
      "text/plain": [
       "<Figure size 432x288 with 1 Axes>"
      ]
     },
     "metadata": {},
     "output_type": "display_data"
    }
   ],
   "source": [
    "import numpy as np\n",
    "from scipy.integrate import odeint\n",
    "import matplotlib.pyplot as plt\n",
    "\n",
    "\n",
    "def dydx(y, t):\n",
    "    return y\n",
    "\n",
    "xspan = np.linspace(0, 1)\n",
    "y0 = 1\n",
    "\n",
    "sol = odeint(dydx, y0, xspan)\n",
    "\n",
    "plt.plot(xspan, sol)\n",
    "plt.plot(xspan, np.exp(xspan), 'r--')\n",
    "plt.xlabel('x')\n",
    "plt.ylabel('y')\n",
    "plt.legend(['numerical solution', 'analytical solution'], loc='best')\n",
    "plt.show()"
   ]
  },
  {
   "cell_type": "markdown",
   "metadata": {},
   "source": [
    "Note the use of a dashed line on the second plot so that it is apparent the red dashed line lies on top of the blue line, and the use of the legend to show which line is which.\n",
    "\n",
    "\n"
   ]
  },
  {
   "cell_type": "markdown",
   "metadata": {},
   "source": [
    "# Find ODE solutions that hit targets"
   ]
  },
  {
   "cell_type": "markdown",
   "metadata": {},
   "source": [
    "Let's say that we wanted to find the time at which y crosses 2. One (naive) way to implement this is by wrapping the solver in an fsolve:"
   ]
  },
  {
   "cell_type": "code",
   "execution_count": 10,
   "metadata": {},
   "outputs": [
    {
     "name": "stdout",
     "output_type": "stream",
     "text": [
      "The integration reaches 2 at 0.693\n"
     ]
    }
   ],
   "source": [
    "import numpy as np\n",
    "from scipy.integrate import odeint\n",
    "from scipy.optimize import fsolve\n",
    "import matplotlib.pyplot as plt\n",
    "\n",
    "\n",
    "def dydx(y, t):\n",
    "    return y\n",
    "\n",
    "def objective(tmax):\n",
    "    xspan = np.linspace(0, tmax)\n",
    "    y0 = 1\n",
    "    sol = odeint(dydx, y0, xspan)\n",
    "    return sol[-1]-2\n",
    "\n",
    "sol = fsolve(objective,0.4)\n",
    "\n",
    "print('The integration reaches 2 at %1.3f'%sol)"
   ]
  },
  {
   "cell_type": "code",
   "execution_count": null,
   "metadata": {},
   "outputs": [],
   "source": []
  }
 ],
 "metadata": {
  "kernelspec": {
   "display_name": "Python 3",
   "language": "python",
   "name": "python3"
  },
  "language_info": {
   "codemirror_mode": {
    "name": "ipython",
    "version": 3
   },
   "file_extension": ".py",
   "mimetype": "text/x-python",
   "name": "python",
   "nbconvert_exporter": "python",
   "pygments_lexer": "ipython3",
   "version": "3.6.3"
  },
  "toc": {
   "base_numbering": 1,
   "nav_menu": {
    "height": "155px",
    "width": "252px"
   },
   "number_sections": true,
   "sideBar": true,
   "skip_h1_title": false,
   "title_cell": "Table of Contents",
   "title_sidebar": "Contents",
   "toc_cell": false,
   "toc_position": {},
   "toc_section_display": "block",
   "toc_window_display": false
  }
 },
 "nbformat": 4,
 "nbformat_minor": 2
}
