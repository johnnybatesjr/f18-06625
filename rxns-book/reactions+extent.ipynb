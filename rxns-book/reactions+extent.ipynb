{
 "cells": [
  {
   "cell_type": "markdown",
   "metadata": {},
   "source": [
    "$$\\require{mhchem}$$"
   ]
  },
  {
   "cell_type": "markdown",
   "metadata": {},
   "source": [
    "\n",
    "\\begin{equation}\n",
    "\\ce{2H2 + O2 -> 2H2O}\n",
    "\\end{equation}\n"
   ]
  },
  {
   "cell_type": "markdown",
   "metadata": {
    "slideshow": {
     "slide_type": "slide"
    }
   },
   "source": [
    "# photo submission"
   ]
  },
  {
   "cell_type": "markdown",
   "metadata": {
    "slideshow": {
     "slide_type": "fragment"
    }
   },
   "source": [
    "Examples of filenames submitted:\n",
    "- photo_zulissi.ipynb.jpg\n",
    "- photo_zulissi_zachary W. Ulissi.jpg\n",
    "- IMG5934_(chinese characters).jpg\n",
    "- Zachary Ulissi(Andrew ID zulissi).jpg\n",
    "- IMG_0004.jpg\n",
    "- zulissi_06_625.jpg\n",
    "- photo_zulissi (njdsgn529785).jpg\n",
    "- DSC4892.jpg"
   ]
  },
  {
   "cell_type": "markdown",
   "metadata": {
    "slideshow": {
     "slide_type": "slide"
    }
   },
   "source": [
    "# Introduction to the course"
   ]
  },
  {
   "cell_type": "markdown",
   "metadata": {
    "slideshow": {
     "slide_type": "fragment"
    }
   },
   "source": [
    "What is reactor engineering?\n",
    "-   The design of processes that transform lower value feedstocks to higher value products through chemical reactions.\n",
    "\n",
    "We answer questions such as:\n",
    "\n",
    "1.  Can we make a product at an economical rate?\n",
    "2.  How big should a reactor be to make a product at some rate?\n",
    "3.  How much heat should I remove from a reactor to maintain a safe temperature?\n",
    "4.  What kind of reactor gives the highest yield?\n",
    "5.  etc&#x2026;\n",
    "\n",
    "We get paid to answer those questions\n",
    "\n",
    "-   *quantitatively*\n",
    "    -   It will rarely be sufficient to qualitatively answer questions\n",
    "-   with uncertainty and risk analysis\n",
    "-   even when the problems are very hard\n",
    "\n",
    "\n"
   ]
  },
  {
   "cell_type": "markdown",
   "metadata": {
    "slideshow": {
     "slide_type": "slide"
    }
   },
   "source": [
    "## Role of computational tools\n"
   ]
  },
  {
   "cell_type": "markdown",
   "metadata": {
    "slideshow": {
     "slide_type": "subslide"
    }
   },
   "source": [
    "-   Many problems are too hard to solve by hand and must be solved numerically.\n",
    "    -   For these we use computational methods\n",
    "\n",
    "-   We will extensively use Python to numerically solve problems in this course.\n",
    "\n",
    "-   Why?\n",
    "    -   Python is *free*\n",
    "    -   You can use this anywhere you go\n",
    "    -   Python does everything we need and much more\n",
    "\n",
    "-   Almost every class will use and show examples of python\n",
    "-   These notes will be available to you through the syllabus\n",
    "-   You should make sure you can run the examples, *and that you get the same results*\n",
    "-   **Ask questions when you do not understand**\n",
    "\n",
    "-   We will extensively use jupyter notebooks in this class\n",
    "    -   to read course notes\n",
    "    -   to solve computational problems\n",
    "    -   to document our work, analysis, and discussion\n",
    "\n"
   ]
  },
  {
   "cell_type": "code",
   "execution_count": null,
   "metadata": {},
   "outputs": [],
   "source": []
  },
  {
   "cell_type": "markdown",
   "metadata": {
    "slideshow": {
     "slide_type": "slide"
    }
   },
   "source": [
    "## Python examples\n",
    "\n"
   ]
  },
  {
   "cell_type": "markdown",
   "metadata": {
    "slideshow": {
     "slide_type": "fragment"
    }
   },
   "source": [
    "### A simple plot\n",
    "\n"
   ]
  },
  {
   "cell_type": "markdown",
   "metadata": {
    "slideshow": {
     "slide_type": "fragment"
    }
   },
   "source": [
    "Here we import functionality from python modules to get array math functions and to make a plot.\n",
    "Put your cursor in this code block and press shift-enter.\n",
    "\n",
    "Let us review some python documentation. Click on these links to learn more about these functions:\n",
    "[numpy.linspace](https://docs.scipy.org/doc/numpy/reference/generated/numpy.linspace.html)\n",
    "[numpy.exp](https://docs.scipy.org/doc/numpy/reference/generated/numpy.exp.html)\n",
    "\n",
    "[matplotlib.pyplot.plot](https://www.google.com/#safe=off&q=matplotlib.pyplot.plot)\n",
    "[matplotlib.pyplot.xlabel](https://www.google.com/#safe=off&q=matplotlib.pyplot.xlabel)\n",
    "[matplotlib.pyplot.ylabel](https://www.google.com/#safe=off&q=matplotlib.pyplot.ylabel)\n",
    "[matplotlib.pyplot.savefig](https://www.google.com/#safe=off&q=matplotlib.pyplot.savefig)\n",
    "\n"
   ]
  },
  {
   "cell_type": "code",
   "execution_count": null,
   "metadata": {
    "slideshow": {
     "slide_type": "slide"
    }
   },
   "outputs": [],
   "source": [
    "import numpy as np               # standard import for array functions\n",
    "import matplotlib.pyplot as plt  # standard import for plotting\n",
    "\n",
    "# Define some constants\n",
    "R = 8.314   # A float\n",
    "T = 300     # an integer, K\n",
    "\n",
    "# an array of values linearly spaced\n",
    "deltaG = np.linspace(-8000, -12000, num=50)\n",
    "\n",
    "print(len(deltaG))\n",
    "\n",
    "# plotting commands\n",
    "plt.plot(deltaG, np.exp(-deltaG / R / T), 'b--')\n",
    "plt.xlabel('$\\Delta G$')  # Note the $ $\n",
    "plt.ylabel('K')\n",
    "\n",
    "#plt.savefig('K.pdf')\n",
    "#plt.show()"
   ]
  },
  {
   "cell_type": "markdown",
   "metadata": {},
   "source": [
    "### Solve nonlinear equations\n",
    "\n"
   ]
  },
  {
   "cell_type": "markdown",
   "metadata": {},
   "source": [
    "Suppose we know K at some temperature, and we want to compute the corresponding $\\Delta G$? Say we know K = 100 at 300K.  We need to solve $100 = e^{-\\Delta G/RT}$ for $\\Delta G$ at T = 300 K. Numerically,  we need to find the value of $\\Delta G$ that solves this equivalent equation:\n",
    "\n",
    "$$0 = 100 - e^{-\\Delta G/RT}$$\n",
    "\n",
    "We have to provide a guess for the solution because this is a nonlinear function we are solving. We could solve this problem analytically, but we are not going to. Instead, we will use the analytical solution to show our numerical solution is correct.\n",
    "\n",
    "[scipy.optimize.fsolve](https://docs.scipy.org/doc/scipy/reference/generated/scipy.optimize.fsolve.html)\n",
    "\n",
    "Put your cursor in this code block and press shift+enter to run the block.\n",
    "\n"
   ]
  },
  {
   "cell_type": "markdown",
   "metadata": {},
   "source": [
    "You can see the two solutions are equivalent. Checkout [numpy.log](https://docs.scipy.org/doc/numpy/reference/generated/numpy.log.html)\n",
    "\n"
   ]
  },
  {
   "cell_type": "markdown",
   "metadata": {},
   "source": [
    "### Solving another nonlinear algebra problem\n",
    "\n"
   ]
  },
  {
   "cell_type": "markdown",
   "metadata": {},
   "source": [
    "Given $C_A = C_{A0} e^{-k t}$ with $C_{A0} =1$ mol/L, and $k=0.23$ 1/s, how long will it take before $C_A$ = 0.2 M? We want to know at what time is this equation true: $0.2 - C_{A0} e^{-k t} = 0$. We define two functions here, one for $C_A$, and one for the objective function ($f(x)=0$). That is so we can evaluate $C_A(t_{soln})$ conveniently later.\n",
    "\n"
   ]
  },
  {
   "cell_type": "code",
   "execution_count": null,
   "metadata": {
    "pixiedust": {
     "displayParams": {}
    }
   },
   "outputs": [],
   "source": [
    "import numpy as np\n",
    "from scipy.optimize import fsolve\n",
    "\n",
    "CA0 = 1.0  # mol / l\n",
    "k = 0.23  # 1/s\n",
    "\n",
    "\n",
    "def Ca(t):\n",
    "    return CA0 * np.exp(-k * t)\n",
    "\n",
    "\n",
    "def f(t):\n",
    "    z = 0.2 - Ca(t)\n",
    "    return z\n",
    "\n",
    "ans, d, flag, msg = fsolve(f, 2.0, full_output=1)\n",
    "print(ans)\n",
    "\n",
    "print('Ca = {1} at t = {0:1.2f} s ({1})'.format(ans[0], Ca(ans)))"
   ]
  },
  {
   "cell_type": "code",
   "execution_count": 6,
   "metadata": {},
   "outputs": [
    {
     "data": {
      "image/png": "[encoded data removed]",
      "text/plain": [
       "<Figure size 432x288 with 1 Axes>"
      ]
     },
     "metadata": {},
     "output_type": "display_data"
    }
   ],
   "source": [
    "import matplotlib.pyplot as plt\n",
    "t = np.linspace(0,10,100)\n",
    "\n",
    "plt.plot(t,Ca(t))\n",
    "plt.plot(t,t*0+0.2,'--k')\n",
    "plt.xlabel('Time t [s]')\n",
    "plt.ylabel('$C_A$ [M]')\n",
    "plt.show()"
   ]
  },
  {
   "cell_type": "markdown",
   "metadata": {},
   "source": [
    "You should practice with these examples. Review these links:\n",
    "\n",
    "[scipy.optimize.fsolve](https://docs.scipy.org/doc/scipy/reference/generated/scipy.optimize.fsolve.html)\n",
    "\n",
    "[numpy.exp](https://docs.scipy.org/doc/numpy/reference/generated/numpy.exp.html)  [numpy.log](https://docs.scipy.org/doc/numpy/reference/generated/numpy.log.html)\n",
    "\n"
   ]
  },
  {
   "cell_type": "markdown",
   "metadata": {},
   "source": [
    "# Debugging example"
   ]
  },
  {
   "cell_type": "code",
   "execution_count": null,
   "metadata": {},
   "outputs": [],
   "source": [
    "import pixiedust"
   ]
  },
  {
   "cell_type": "code",
   "execution_count": 3,
   "metadata": {
    "pixiedust": {
     "displayParams": {}
    }
   },
   "outputs": [
    {
     "name": "stdout",
     "output_type": "stream",
     "text": [
      "[6.99755614]\n",
      "Ca = [0.2] at t = 7.00 s ([0.2])\n"
     ]
    }
   ],
   "source": [
    "#%%pixie_debugger\n",
    "import numpy as np\n",
    "from scipy.optimize import fsolve\n",
    "\n",
    "CA0 = 1.0  # mol / l\n",
    "k = 0.23  # 1/s\n",
    "\n",
    "\n",
    "def Ca(t):\n",
    "    return CA0 * np.exp(-k * t)\n",
    "\n",
    "\n",
    "def f(t):\n",
    "    z = 0.2 - Ca(t)\n",
    "    return z\n",
    "\n",
    "\n",
    "ans = fsolve(f, 2.0, full_output=0)\n",
    "print(ans)\n",
    "\n",
    "print('Ca = {1} at t = {0:1.2f} s ({1})'.format(ans[0], Ca(ans)))"
   ]
  },
  {
   "cell_type": "code",
   "execution_count": null,
   "metadata": {},
   "outputs": [],
   "source": []
  },
  {
   "cell_type": "markdown",
   "metadata": {},
   "source": [
    "\n",
    "# The Basics - isothermal reactor design with single reactions\n",
    "\n"
   ]
  },
  {
   "cell_type": "markdown",
   "metadata": {},
   "source": [
    "\n",
    "## Chemical reactions\n",
    "\n"
   ]
  },
  {
   "cell_type": "markdown",
   "metadata": {},
   "source": [
    "-   Chemical reaction transform reactants to products.\n",
    "\n",
    "Consider a reaction\n",
    "$\\ce{a A + bB + \\cdots -> q Q + sS + \\cdots}$\n",
    "\n",
    "-   symbols on the left are reactants\n",
    "\n",
    "-   symbols on the right are products\n",
    "\n",
    "-   The lower case letters are stoichiometric coefficients\n",
    "    -   Stoichiometric coefficients relate the amounts of each reactant that react to the amounts of products produced\n",
    "\n",
    "-   The upper case letters are symbols for reactant and product species\n",
    "\n",
    "-   For specificity let us consider\n",
    "\n",
    "\\begin{equation}\n",
    "\\ce{aA + bB -> cC + dD }\n",
    "\\end{equation}\n",
    "\n",
    "-   We will express this reaction as:\n",
    "\n",
    "\\begin{equation}\n",
    "0 = \\alpha_3 A_3 + \\alpha_4 A_4  - \\alpha_1 A_1 - \\alpha_2 A_2\n",
    "\\end{equation}\n",
    "\n",
    "where we have substituted $A = A_1$ and $a = \\alpha_1$, $C = A_3$ and $c = \\alpha_3$, etc&#x2026;\n",
    "\n",
    "-   In the most compact form we might write this as a sum over all $N$ species for a reaction:\n",
    "\n",
    "\\begin{equation}\n",
    "\\sum_{i=0}^{N-1} \\alpha_i A_i = 0\n",
    "\\end{equation}\n",
    "\n",
    "where $\\alpha_i$ is the stoichiometric coefficient (negative for reactants, positive for products), or more preferrably in matrix equation form:\n",
    "\n",
    "\\begin{equation}\n",
    "\\vec{\\alpha} \\cdot \\vec{A} = 0\n",
    "\\end{equation}\n",
    "\n",
    "where $\\vec{\\alpha}$ is the vector of stoichiometric coefficients, and $\\vec{A}$ is the vector of chemical species.\n",
    "\n",
    "-   It is conventional that the stoichiometric coefficients of reactants are negative and for products the stoichiometric coefficients are positive.\n",
    "\n",
    "-   Atoms cannot be destroyed in non-nuclear chemical reactions, hence it follows that the same number of atoms entering a reactor must also leave the reactor. The atoms may leave the reactor in a different molecular configuration due to the reaction, but the total mass leaving the reactor must be the same.\n"
   ]
  },
  {
   "cell_type": "markdown",
   "metadata": {},
   "source": [
    "Consider the water gas shift reaction:\n",
    "\n",
    "\\begin{equation}\n",
    "\\ce{ CO + H2O <=> H2 + CO2}\n",
    "\\end{equation}\n",
    "\n",
    "-   The total mass at any time will be $M_{CO} + M_{H_2O} + M_{H_2} + M_{CO_2}$.\n",
    "    -   These are related to the number of moles of each species through the species molecular weights.\n",
    "\n",
    "-   Let $\\vec{N}$ be a vector that is the number of moles of each species. Then, the total mass is: $\\vec{N} \\cdot \\vec{MW}$.\n",
    "\n",
    "-   Stoichiometry constrains the relationship between the moles of each species during reaction.\n",
    "\n",
    "-   Suppose we start with this initial number of moles of each species: $[N_0, N_0, 0, 0]$.\n",
    "    -   Now, if $n$ moles of A\\_1 reacts, we know that $n$ moles of A\\_2 react, and $n$ moles of A\\_3 and A\\_4 are produced.\n",
    "    -   In otherwords, the new number of moles of each species is: $\\vec{N_0} + n\\vec{\\alpha}$. And the new mass is correspondingly: $(\\vec{N_0} + n\\vec{\\alpha}) \\cdot \\vec{\\text{MW}}$ or: $M_0 + n\\vec{\\alpha}\\cdot\\vec{\\text{MW}}$.\n",
    "\n",
    "-   In a properly balanced chemical reaction, there are the same number of each type of atom on each side of the reaction, so the sum of molecular weights of reactants must be the same as products, and $\\vec{\\alpha}\\cdot\\vec{\\text{MW}}=0$. Therefore, the total mass does not change for any $n$!\n",
    "\n",
    "-   We can illustrate the conservation of mass with the following equation: $\\vec{\\alpha}\\cdot\\vec{\\text{MW}}=0$. Where $\\vec{\\alpha}$ is the stoichiometric coefficient vector and $\\vec{\\text{MW}}$ is a column vector of molecular weights.\n",
    "\n",
    "-   For simplicity, we use pure isotope molecular weights, and not the isotope-weighted molecular weights. This equation simply examines the mass on the right side of the equation and the mass on left side of the equation.\n",
    "\n",
    "[numpy.array](https://docs.scipy.org/doc/numpy/reference/generated/numpy.array.html)\n",
    "[numpy.dot](https://docs.scipy.org/doc/numpy/reference/generated/numpy.dot.html)\n",
    "[range](https://www.google.com/#safe=off&q=range)\n",
    "\n"
   ]
  },
  {
   "cell_type": "code",
   "execution_count": 11,
   "metadata": {},
   "outputs": [
    {
     "data": {
      "text/plain": [
       "[-28, -18, 2, 44]"
      ]
     },
     "execution_count": 11,
     "metadata": {},
     "output_type": "execute_result"
    }
   ],
   "source": [
    "list(zip(alpha, MW))\n",
    "[a * m for a, m in zip(alpha, MW)]"
   ]
  },
  {
   "cell_type": "code",
   "execution_count": 13,
   "metadata": {},
   "outputs": [
    {
     "name": "stdout",
     "output_type": "stream",
     "text": [
      "1.  0\n",
      "2.  0\n",
      "3.  0\n",
      "4.  0\n",
      "5.  0\n",
      "6.  0\n",
      "[-28 -18   2  44]\n"
     ]
    }
   ],
   "source": [
    "import numpy as np\n",
    "\n",
    "# stoichiometric vector for\n",
    "# CO + H2O -> H2 + CO2\n",
    "alpha = np.array([-1, -1, 1, 1])\n",
    "\n",
    "MW = np.array([28, 18, 2, 44])     # Molecular weights gm/mol\n",
    "\n",
    "print('1. ', np.dot(alpha, MW))\n",
    "\n",
    "print('2. ', np.sum([a * m for a, m in zip(alpha, MW)]))\n",
    "\n",
    "# Here is some old-fashioned code to do the same thing. do not do\n",
    "# this. even though it works:\n",
    "total = 0\n",
    "for i in range(4):\n",
    "    total = total + alpha[i] * MW[i]\n",
    "print('3. ', total)\n",
    "\n",
    "# Kudos if you thought of this:\n",
    "import operator\n",
    "print('4. ', sum(map(operator.mul, alpha, MW)))\n",
    "# This is called functional programming\n",
    "\n",
    "# This is the new syntax in Python 3 for matrix multiplication\n",
    "print('5. ', alpha @ MW)\n",
    "\n",
    "# Note * is an element-wise multiplication for arrays. Arrays are not the same as lists.\n",
    "print('6. ', sum(alpha * MW))\n",
    "print(alpha * MW)  # in matlab this is alpha .* MW"
   ]
  },
  {
   "cell_type": "markdown",
   "metadata": {},
   "source": [
    "Stoichiometry also determines if the total number of moles in a reaction change. Even though the total mass is constant, the total number of moles may change. Here are three examples showing how this is possible.\n",
    "\n",
    "1.  $\\ce{CO + H_2O -> H2 + CO2}$ (no total mole change)\n",
    "2.  $\\ce{H2O -> H2 + 1/2 O2}$ (Total moles increase by 0.5 mol per mol water reacted)\n",
    "3.  $\\ce{N2 + 3H2 -> 2NH3}$ (Total moles decrease by two moles for every mole of N\\_2 reacted)\n",
    "\n",
    "The change in number of moles is given by \n",
    "\\begin{align*}\n",
    "\\overline{\\alpha} = \\sum_{i=0}^N \\alpha_i\n",
    "\\end{align*}\n",
    "\n"
   ]
  },
  {
   "cell_type": "code",
   "execution_count": 14,
   "metadata": {},
   "outputs": [
    {
     "name": "stdout",
     "output_type": "stream",
     "text": [
      "Change in moles for the WGS = 0 moles\n",
      "Change in moles for water splitting = 0.5 moles\n",
      "Change in moles for the ammonia synthesis = -2 moles\n"
     ]
    }
   ],
   "source": [
    "import numpy as np\n",
    "# Water-gas shift\n",
    "alpha = np.array([-1, -1, 1, 1]);  # stoichiometric vector for CO +\n",
    "                                   # H2O -> H2 + CO2\n",
    "print('Change in moles for the WGS = {0} moles'.format(sum(alpha)))\n",
    "\n",
    "alpha = np.array([-1, 1, 0.5]) # H2O -> H2 + 1/2 O2\n",
    "print('Change in moles for water splitting = {0} moles'.format(sum(alpha)))\n",
    "\n",
    "alpha = np.array([-1, -3, 2]) # N2 + 3H2 -> 2 NH3\n",
    "print('Change in moles for the ammonia synthesis = {} moles'.format(sum(alpha)))"
   ]
  },
  {
   "cell_type": "markdown",
   "metadata": {},
   "source": [
    "Changing the total number of moles in a reaction will have a big effect in gas phase reactions because it results in changing volumetric flow rates. We will come back to this later.\n",
    "\n"
   ]
  },
  {
   "cell_type": "markdown",
   "metadata": {},
   "source": [
    "\n",
    "## Reaction extent\n",
    "\n"
   ]
  },
  {
   "cell_type": "markdown",
   "metadata": {},
   "source": [
    "-   We now consider formalizing the change in moles of each species when reactions occur. Consider:\n",
    "\n",
    "\\begin{equation}\n",
    "\\ce{2H2 + O2 -> 2H2O}\n",
    "\\end{equation}\n",
    "\n",
    "which we write as:\n",
    "\n",
    "\\begin{equation}\n",
    "0 = 2 A_3 - 2 A_1 - A_2\n",
    "\\end{equation}\n",
    "\n",
    "-   If we start with $N_{A_1,0}$ moles at some time, and later have $N_{A_1}$ moles later, then stoichiometry dictates that:\n",
    "\n",
    "\\begin{equation}\n",
    "\\frac{N_{A_1} - N_{A_1,0}}{-2} = \\frac{N_{A_2} - N_{A_2,0}}{-1} = \\frac{N_{A_3} - N_{A_3,0}}{2} = X\n",
    "\\end{equation}\n",
    "\n",
    "-   We call $X$ the extent of reaction, and it has units of moles. We can show generally that:\n",
    "\n",
    "\\begin{equation}\n",
    "N_J = N_{J,0} + \\alpha_J X\n",
    "\\end{equation}\n",
    "\n",
    "or for a flow system:\n",
    "\n",
    "\\begin{equation}\n",
    "F_J = F_{J,0} + \\alpha_J X\n",
    "\\end{equation}\n",
    "\n",
    "-   $X$ has units of mol/time for dimensional consistency in a flow system\n",
    "\n",
    "-   Note that the extent of reaction as written is extensive, and depends on how the reaction is written through the stoichiometric coefficients. It does not, however, depend on a particular species.\n",
    "\n",
    "-   If we have a constant volume reactor and a constant volumetric flow, we can use an intensive reaction extent:\n",
    "\n",
    "\\begin{equation}\n",
    "C_J = C_{J,0} + \\alpha_J \\xi\n",
    "\\end{equation}\n",
    "\n",
    "$\\xi$ is now an intensive reaction extent $X/V$, with units of mol / vol.\n",
    "\n",
    "or $\\xi'$ is now an intensive reaction extent $X/\\nu$, with units of mol / vol / time.\n",
    "\n",
    "-   Note that there are limits on the maximum value of $\\xi$ because we cannot have negative concentrations. If we set $C_J$ to zero, we derive\n",
    "\n",
    "\\begin{equation}\n",
    "\\xi_{max} = -\\frac{C_{J,0}}{\\alpha_J}\n",
    "\\end{equation}\n",
    "\n",
    "-   If there are multiple reactants present, then you must pick the smallest positive (non-zero) $\\xi_{max}$ to avoid getting negative concentrations of one species.\n",
    "\n",
    "-   Consider this reaction:\n",
    "\n",
    "$\\ce{H2 + 1/2 O2 -> H2O}$\n",
    "\n",
    "If you start with 0.55 mole of $H_2$, and 0.2 mol of $O_2$. What is $\\xi_{max}$?\n",
    "\n"
   ]
  },
  {
   "cell_type": "code",
   "execution_count": 16,
   "metadata": {},
   "outputs": [
    {
     "name": "stdout",
     "output_type": "stream",
     "text": [
      "H2  0.55\n",
      "O2  0.4\n",
      "The maximum extent is 0.4 moles.\n"
     ]
    }
   ],
   "source": [
    "import numpy as np\n",
    "\n",
    "M0 = np.array([0.55, 0.2])\n",
    "alpha = np.array([-1.0, -0.5])\n",
    "\n",
    "species = ['H2', 'O2']\n",
    "\n",
    "for sp, x in zip(species, -M0 / alpha):\n",
    "#    print('{0:4s}{1:1.2f}'.format(sp, x))\n",
    "    print('{0}  {1}'.format(sp, x))\n",
    "\n",
    "print('The maximum extent is {0} moles.'.format(min(- M0 / alpha)))"
   ]
  },
  {
   "cell_type": "markdown",
   "metadata": {},
   "source": [
    "Now for that extent, what is the reaction compostion? Let us work it out.  [zip](https://www.google.com/#safe=off&q=zip)\n",
    "\n"
   ]
  },
  {
   "cell_type": "code",
   "execution_count": 17,
   "metadata": {},
   "outputs": [
    {
     "name": "stdout",
     "output_type": "stream",
     "text": [
      "H2    0.15 moles\n",
      "O2    0.00 moles\n",
      "H2O   0.40 moles\n"
     ]
    }
   ],
   "source": [
    "import numpy as np\n",
    "\n",
    "M0 = np.array([0.55, 0.2, 0.0])\n",
    "alpha = np.array([-1.0, -0.5, 1.0])\n",
    "\n",
    "xi = 0.4\n",
    "\n",
    "M = M0 + alpha * xi\n",
    "species = ['H2', 'O2', 'H2O']\n",
    "\n",
    "for a, b in zip(species, M):\n",
    "    print('{0:5s} {1:1.2f} moles'.format(a, b))"
   ]
  },
  {
   "cell_type": "markdown",
   "metadata": {},
   "source": [
    "-   You can see that at that extent we have consumed all of the oxygen. We would call that the limiting reagent, because the reaction cannot proceed further since one of the reactants is gone.\n",
    "\n",
    "-   Rather than work in terms of reaction extents, you may choose to define a fractional extent:\n",
    "\n",
    "\\begin{equation}\n",
    "\\Xi = \\xi / \\xi_{max}\n",
    "\\end{equation}\n",
    "\n",
    "which leads upon substitution to:\n",
    "\n",
    "\\begin{equation}\n",
    "C_J = C_{J,0}(1 - \\Xi)\n",
    "\\end{equation}\n",
    "\n",
    "-   This new quantity $\\Xi$ is sometimes referred to as conversion. Conversion has the nice property of being dimensionless, and bounded between 0 and 1.\n",
    "\n"
   ]
  },
  {
   "cell_type": "markdown",
   "metadata": {},
   "source": [
    "# Submission example on gradescope"
   ]
  },
  {
   "cell_type": "markdown",
   "metadata": {},
   "source": []
  }
 ],
 "metadata": {
  "kernelspec": {
   "display_name": "Python 3",
   "language": "python",
   "name": "python3"
  },
  "language_info": {
   "codemirror_mode": {
    "name": "ipython",
    "version": 3
   },
   "file_extension": ".py",
   "mimetype": "text/x-python",
   "name": "python",
   "nbconvert_exporter": "python",
   "pygments_lexer": "ipython3",
   "version": "3.6.3"
  },
  "toc": {
   "base_numbering": 1,
   "nav_menu": {
    "height": "118px",
    "width": "252px"
   },
   "number_sections": true,
   "sideBar": true,
   "skip_h1_title": false,
   "title_cell": "Table of Contents",
   "title_sidebar": "Contents",
   "toc_cell": false,
   "toc_position": {},
   "toc_section_display": "block",
   "toc_window_display": false
  }
 },
 "nbformat": 4,
 "nbformat_minor": 2
}
