{
 "cells": [
  {
   "cell_type": "markdown",
   "metadata": {},
   "source": [
    "\n",
    "# Simple mole balances\n",
    "\n"
   ]
  },
  {
   "cell_type": "markdown",
   "metadata": {},
   "source": [
    "\n",
    "## Review of the mole balance\n",
    "\n"
   ]
  },
  {
   "cell_type": "markdown",
   "metadata": {},
   "source": [
    "-   **Mole** balances are performed for a *species* in a control volume\n",
    "\n",
    "![img](./images/mole-balance.png)\n",
    "\n",
    "\\begin{align}\n",
    "Accumulation &=& In - Out + Generation \\\\\n",
    "\\frac{dN_J}{dt} &=& F_{J0} - F_J + V r_J\n",
    "\\end{align}\n",
    "\n",
    "-   Here we use the convention that $N_j$ refers to the total number of moles of species $J$ in the volume, $F_J$ is a molar flow of $J$, and $r_J$ is the intensive rate of production of $J$, and it has a negative magnitude if species $J$ is in fact being consumed.\n",
    "\n",
    "Now, we consider specific examples. We will go in order of mathematical difficulty:\n",
    "\n",
    "-   steady state, (non)linear algebraic\n",
    "-   ordinary differential equations\n",
    "\n"
   ]
  },
  {
   "cell_type": "markdown",
   "metadata": {},
   "source": [
    "\n",
    "## A continuously stirred tank reactor\n",
    "\n"
   ]
  },
  {
   "cell_type": "markdown",
   "metadata": {},
   "source": [
    "Here is the typical schematic diagram of a continuously stirred tank reactor (CSTR).\n",
    "\n",
    "![img](./images/constant-volume-cstr.png)\n",
    "\n",
    "-   We assume the tank is well-mixed because it is well-stirred\n",
    "-   The concentration at the exit is the same as everywhere in the tank\n",
    "-   The mole balance at steady state ($\\frac {dN_A}{dt} = 0) $ is:\n",
    "\n",
    "$0 = F_{A0} - F_A + V r_A $\n",
    "\n"
   ]
  },
  {
   "cell_type": "markdown",
   "metadata": {},
   "source": [
    "\n",
    "## A continuously stirred tank reactor problem\n",
    "\n"
   ]
  },
  {
   "cell_type": "markdown",
   "metadata": {},
   "source": [
    "-   We have a 10L stirred tank reactor\n",
    "-   $A$ flows in at a molar flow rate of 1 mol/hr and volumetric flowrate of 2.5 L/hr\n",
    "-   $-r_A = k C_A$, $k = 0.23$ 1/hr\n",
    "-   What is the steady-state exit concentration of $A$?\n",
    "\n",
    "-   The equations\n",
    "\n",
    "\\begin{align}\n",
    "\\frac{dN_A}{dt} = 0 &=& F_{A0} - F_A + V r_A \\\\\n",
    "                  0 &=& F_{A0} - F_A  - V k C_{A, exit} \\\\\n",
    "                  0 &=& F_{A0} - v_0 C_{A, exit} - V  k C_{A, exit}\n",
    "\\end{align}\n",
    "\n",
    "\\begin{align}\n",
    "C_{A, exit} = \\frac{F_{A0}}{v_0 + V k}\n",
    "\\end{align}\n",
    "\n",
    "-   Only for constant volume\n",
    "-   Assumes well-mixed, i.e. uniform concentration\n",
    "\n"
   ]
  },
  {
   "cell_type": "markdown",
   "metadata": {},
   "source": [
    "\n",
    "## Solving the problem with algebra (CSTR)\n",
    "\n"
   ]
  },
  {
   "cell_type": "markdown",
   "metadata": {},
   "source": [
    "-   Simple algebra\n",
    "\n"
   ]
  },
  {
   "cell_type": "code",
   "execution_count": 1,
   "metadata": {},
   "outputs": [
    {
     "name": "stdout",
     "output_type": "stream",
     "text": [
      "Ca_exit = 0.208 mol / L\n"
     ]
    }
   ],
   "source": [
    "k = 0.23  # 1/hr\n",
    "Fa0 = 1.0 # mol /hr\n",
    "v0 = 2.5  # L /hr\n",
    "V = 10    # L\n",
    "\n",
    "Ca_exit = Fa0 / (v0 + V * k)\n",
    "print('Ca_exit = {0:1.3f} mol / L'.format(Ca_exit))"
   ]
  },
  {
   "cell_type": "markdown",
   "metadata": {},
   "source": [
    "-   This was an easy problem, but the algebraic manipulations are all possible places where errors can be made.\n",
    "-   Let us consider a numerical approach\n",
    "\n"
   ]
  },
  {
   "cell_type": "markdown",
   "metadata": {},
   "source": [
    "\n",
    "## Solving the problem numerically using a solver (CSTR)\n",
    "\n"
   ]
  },
  {
   "cell_type": "markdown",
   "metadata": {},
   "source": [
    "-   We have to create a function that is equal to zero at the solution.\n",
    "    -   We have that directly from the mole balance:\n",
    "        \n",
    "        $0 = F_{A0} - F_A + V r_A$\n",
    "    \n",
    "    -   We just have to make sure to use the correct variables, with correct units.\n",
    "\n",
    "-   We use a nonlinear solver, so we also have to provide an initial guess. You may want to review [scipy.optimize.fsolve](https://docs.scipy.org/doc/scipy/reference/generated/scipy.optimize.fsolve.html)\n",
    "\n"
   ]
  },
  {
   "cell_type": "code",
   "execution_count": 2,
   "metadata": {},
   "outputs": [
    {
     "name": "stdout",
     "output_type": "stream",
     "text": [
      "Ca_exit = 0.20833333333333334 mol/L\n"
     ]
    }
   ],
   "source": [
    "from scipy.optimize import fsolve\n",
    "\n",
    "k = 0.23   # 1/hr\n",
    "Fa0 = 1.0  # mol /hr\n",
    "v0 = 2.5   # L /hr\n",
    "V = 10     # L\n",
    "\n",
    "def func(Ca):\n",
    "    ra = -k * Ca\n",
    "    Fa = v0 * Ca\n",
    "    return Fa0 - Fa + V * ra\n",
    "\n",
    "guess = 1.0  # mol / L\n",
    "ans, = fsolve(func, guess)  # note the comma after ans. That \"unpacks\" the array\n",
    "\n",
    "print('Ca_exit = {0} mol/L'.format(ans))"
   ]
  },
  {
   "cell_type": "markdown",
   "metadata": {},
   "source": [
    "-   This had less manipulation, and fewer opportunities for mistakes\n",
    "-   On the other hand, we ended up using a solver that required an initial guess to solve a linear problem.\n",
    "-   This was a simple problem, but other problems will not be linear, and will be much more difficult.\n",
    "-   Remember what the units are? Were they consistent?\n",
    "\n"
   ]
  },
  {
   "cell_type": "markdown",
   "metadata": {},
   "source": [
    "\n",
    "## Solving the problem with uncertainty (CSTR)\n",
    "\n"
   ]
  },
  {
   "cell_type": "markdown",
   "metadata": {},
   "source": [
    "[uncertainty](uncertainty)\n",
    "\n",
    "-   Uncertainty analysis is not built in to python\n",
    "-   We have to install the `uncertainties` package and import it\n",
    "\n",
    "Let us assume there is some uncertainty in the rate constant, say it is $k = 0.23 \\pm 0.1$ 1/hr.\n",
    "\n",
    "-   Is that a lot of uncertainty?\n",
    "\n",
    "We can use the `uncertainties` package to propagate that error automatically.\n",
    "\n",
    "[uncertainties.ufloat](https://www.google.com/#safe=off&q=uncertainties.ufloat)\n",
    "\n"
   ]
  },
  {
   "cell_type": "code",
   "execution_count": 3,
   "metadata": {},
   "outputs": [
    {
     "name": "stdout",
     "output_type": "stream",
     "text": [
      "Ca,exit = 0.21+/-0.06\n"
     ]
    }
   ],
   "source": [
    "import uncertainties as u\n",
    "\n",
    "k = u.ufloat(0.23, 0.1)   # rate constant 1/hr\n",
    "Fa0 = 1.0                 # inlet molar flow mol/hr\n",
    "v0 = u.ufloat(2.5,1)                  # volumetric flow L/hr\n",
    "V = 10                    # reactor volume L\n",
    "Cae = Fa0 / (v0 + V * k)\n",
    "print('Ca,exit = {0}'.format(Cae))"
   ]
  },
  {
   "cell_type": "markdown",
   "metadata": {},
   "source": [
    "-   `uncertainties` is also great for simple problems\n",
    "-   We have to do some work to make it work in other situations\n",
    "\n"
   ]
  },
  {
   "cell_type": "markdown",
   "metadata": {},
   "source": [
    "\n",
    "# Mole balance on a batch reactor\n",
    "\n"
   ]
  },
  {
   "cell_type": "markdown",
   "metadata": {},
   "source": [
    "The next more complex (mathematically) mole balance is the batch reactor. The batch reactor does not operate at steady state, and therefore we have an ordinary differential equation that describes the number of moles in the reactor as a function of time.\n",
    "\n",
    "![img](./images/constant-volume-batch.png)\n",
    "\n",
    "-   Constant volume\n",
    "-   No flow in or out\n",
    "\n",
    "$ \\frac{dN_A}{dt} = V r_A $\n",
    "\n"
   ]
  },
  {
   "cell_type": "markdown",
   "metadata": {},
   "source": [
    "\n",
    "## Simple application of a mole balance to a constant volume batch reactor\n",
    "\n"
   ]
  },
  {
   "cell_type": "markdown",
   "metadata": {},
   "source": [
    "-   At $t=0$ we have an initial concentration of 2 mol/L\n",
    "-   $-r_A = k C_A$ with $k = 0.23$ 1/hr\n",
    "-   How much A is left after 1 hour?\n",
    "\n",
    "-   Equations\n",
    "\n",
    "\\begin{align}\n",
    "N_A &=& C_A V \\\\\n",
    "\\frac{dN_A}{dt} &=& V \\frac{dC_A}{dt} \\\\\n",
    "\\frac{dC_A}{dt} &=& r_A = -k C_A \\\\\n",
    "C_A(t=0) &=& C_{A0}\n",
    "\\end{align}\n",
    "\n",
    "-   Only for constant volume\n",
    "-   Assumes well-mixed, i.e. uniform concentration\n",
    "-   Initial condition, ordinary differential equation\n",
    "\n"
   ]
  },
  {
   "cell_type": "markdown",
   "metadata": {},
   "source": [
    "\n",
    "## Solving the problem (constant volume batch reactor)\n",
    "\n"
   ]
  },
  {
   "cell_type": "markdown",
   "metadata": {},
   "source": [
    "We have an ordinary differential equation with an initial condition. We need to integrate it from t=0 to t=1 hour, and then get the solution at t=1 hour.\n",
    "\n",
    "[scipy.integrate.odeint](https://docs.scipy.org/doc/scipy/reference/generated/scipy.integrate.odeint.html)\n",
    "\n"
   ]
  },
  {
   "cell_type": "code",
   "execution_count": 4,
   "metadata": {},
   "outputs": [
    {
     "name": "stdout",
     "output_type": "stream",
     "text": [
      "<class 'numpy.ndarray'> (50, 1)\n",
      "C_A at t = 1 hour = 1.589067228361415 mol/L\n"
     ]
    }
   ],
   "source": [
    "import numpy as np\n",
    "from scipy.integrate import odeint\n",
    "\n",
    "k = 0.23   # 1/hr\n",
    "Ca0 = 2.0  # mol / L\n",
    "\n",
    "def ode(Ca, t):\n",
    "    dCadt = -k * Ca\n",
    "    return dCadt\n",
    "\n",
    "tspan = np.linspace(0, 1)  # hours\n",
    "sol = odeint(ode, Ca0,  tspan)\n",
    "\n",
    "# sol is a 2d array. It has as many rows as tspan, and as many columns as Ca0\n",
    "print(type(sol), sol.shape)\n",
    "\n",
    "# We want the last value of sol, which is in the last row, column 0\n",
    "print('C_A at t = 1 hour = {0} mol/L'.format(sol[-1, 0]))"
   ]
  },
  {
   "cell_type": "code",
   "execution_count": 5,
   "metadata": {},
   "outputs": [
    {
     "data": {
      "text/plain": [
       "1.589067228361415"
      ]
     },
     "execution_count": 5,
     "metadata": {},
     "output_type": "execute_result"
    }
   ],
   "source": [
    "sol[-1,0]"
   ]
  },
  {
   "cell_type": "markdown",
   "metadata": {},
   "source": [
    "-   Remember what the units are?\n",
    "\n"
   ]
  },
  {
   "cell_type": "markdown",
   "metadata": {},
   "source": [
    "\n",
    "## Plotting $C_A$ vs. time in a batch reactor\n",
    "\n"
   ]
  },
  {
   "cell_type": "markdown",
   "metadata": {},
   "source": [
    "-   Now let us solve the ODE and plot the solution.\n",
    "\n"
   ]
  },
  {
   "cell_type": "code",
   "execution_count": 6,
   "metadata": {},
   "outputs": [
    {
     "name": "stdout",
     "output_type": "stream",
     "text": [
      "shapes:  (3,) (3, 1)\n"
     ]
    },
    {
     "data": {
      "text/plain": [
       "<Figure size 640x480 with 1 Axes>"
      ]
     },
     "metadata": {},
     "output_type": "display_data"
    }
   ],
   "source": [
    "import numpy as np\n",
    "from scipy.integrate import odeint\n",
    "import matplotlib.pyplot as plt\n",
    "\n",
    "k = 0.23   # 1 / hr\n",
    "Ca0 = 2.0  # mol / L\n",
    "\n",
    "def ode(Ca, t):\n",
    "    dCadt = -k * Ca\n",
    "    return dCadt\n",
    "\n",
    "tspan = np.linspace(0, 5,3)\n",
    "sol = odeint(ode, Ca0,  tspan)\n",
    "\n",
    "# Note: tspan is a 1d array, and sol is a 2d array. numpy understands these\n",
    "# arrays are compatible based on their sizes and shapes.\n",
    "print('shapes: ',tspan.shape, sol.shape)\n",
    "\n",
    "plt.plot(tspan, sol)\n",
    "plt.xlabel('Time (hours)')\n",
    "plt.ylabel('$C_A$ (mol / L)')\n",
    "plt.show()"
   ]
  },
  {
   "cell_type": "markdown",
   "metadata": {},
   "source": [
    "-   $C_A$ decreases with time (it is consumed)\n",
    "-   It is not apparent from this graph because of the short time, but the concentration decreases exponentially with time (plot for longer time to see it).\n",
    "\n"
   ]
  },
  {
   "cell_type": "code",
   "execution_count": null,
   "metadata": {},
   "outputs": [],
   "source": []
  }
 ],
 "metadata": {
  "kernelspec": {
   "display_name": "Python 3",
   "language": "python",
   "name": "python3"
  },
  "language_info": {
   "codemirror_mode": {
    "name": "ipython",
    "version": 3
   },
   "file_extension": ".py",
   "mimetype": "text/x-python",
   "name": "python",
   "nbconvert_exporter": "python",
   "pygments_lexer": "ipython3",
   "version": "3.6.3"
  },
  "toc": {
   "base_numbering": 1,
   "nav_menu": {
    "height": "352px",
    "width": "252px"
   },
   "number_sections": true,
   "sideBar": true,
   "skip_h1_title": false,
   "title_cell": "Table of Contents",
   "title_sidebar": "Contents",
   "toc_cell": false,
   "toc_position": {},
   "toc_section_display": "block",
   "toc_window_display": false
  }
 },
 "nbformat": 4,
 "nbformat_minor": 1
}
