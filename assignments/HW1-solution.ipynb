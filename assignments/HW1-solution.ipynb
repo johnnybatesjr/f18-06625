{
 "cells": [
  {
   "cell_type": "markdown",
   "metadata": {},
   "source": [
    "$$\\require{mhchem}$$"
   ]
  },
  {
   "cell_type": "markdown",
   "metadata": {},
   "source": [
    "# Python/latex practice (2 pts)\n"
   ]
  },
  {
   "cell_type": "markdown",
   "metadata": {},
   "source": [
    "## Review the materials we discussed in class on [Wednesday](https://nbviewer.jupyter.org/github/zulissi/f18-06625/blob/master/rxns-book/introduction.ipynb?flush_cache=True).  Look over  scipy.optimize,  scipy.minimize, and np.array modules.  Post at least one question on piazza about the concepts/examples/tutorials that you find confusing."
   ]
  },
  {
   "cell_type": "markdown",
   "metadata": {},
   "source": [
    "## The Fibonacci sequence is defined such that each number is the sum of the two previous numbers in the sequence, starting with [1, 1, 2, 3, 5...]. Generate the first 15 elements in the sequence in Python, with the final result as a [list](https://www.tutorialspoint.com/python/python_lists.htm)."
   ]
  },
  {
   "cell_type": "code",
   "execution_count": 40,
   "metadata": {},
   "outputs": [
    {
     "name": "stdout",
     "output_type": "stream",
     "text": [
      "[1, 1, 2, 3, 5, 8, 13, 21, 34, 55, 89, 144, 233, 377, 610]\n"
     ]
    }
   ],
   "source": [
    "fib_sequence = [1, 1]\n",
    "for i in range(13):\n",
    "    fib_sequence += [sum(fib_sequence[-2:])]\n",
    "    \n",
    "print(fib_sequence)"
   ]
  },
  {
   "cell_type": "markdown",
   "metadata": {},
   "source": [
    "### Bonus (1pt) write a fibonacci generator as a recursive function"
   ]
  },
  {
   "cell_type": "markdown",
   "metadata": {},
   "source": [
    "## Type-set 5 latex equations.  Choose the 5 most complicated equations you have seen so far in your other classes (or from your undergrad courses) and typeset them here."
   ]
  },
  {
   "cell_type": "markdown",
   "metadata": {},
   "source": [
    "# Problem 1:  Reaction extent (5 pt)"
   ]
  },
  {
   "cell_type": "markdown",
   "metadata": {},
   "source": [
    "## Problem 1A\n",
    "Ammonia has been proposed as a chemical to store hydrogen for a hydrogen fuel cell due its favorable volumetric hydrogen density. Write down the stoichiometric vector for the thermal decomposition of ammonia to nitrogen and hydrogen."
   ]
  },
  {
   "cell_type": "markdown",
   "metadata": {},
   "source": [
    "$\\ce{2NH3 -> N2 + 3H2}$"
   ]
  },
  {
   "cell_type": "raw",
   "metadata": {},
   "source": [
    "[-2, 1, 3]"
   ]
  },
  {
   "cell_type": "markdown",
   "metadata": {},
   "source": [
    "## Problem 1B\n",
    "Suppose that we know the initial gas concentration of ammonia in a tank is 100 mol/L, and the fractional reaction extent proceeds as $\\Xi=(1-e^{-3t^2})$ where $t$ is the time in seconds.  Plot the concentration of ammonia, nitrogen, and hydrogen as a function of time over the first 2 seconds.  Label the plot with a legend to indicate the species.  "
   ]
  },
  {
   "cell_type": "markdown",
   "metadata": {},
   "source": [
    "From class, we know that\n",
    "\\begin{equation}\n",
    "C_J = C_{J,0} + \\alpha_J \\xi\n",
    "\\end{equation}\n",
    "So how do we find $\\xi$? We use the other equation:\n",
    "\\begin{equation}\n",
    "\\Xi = \\xi / \\xi_{max}\n",
    "\\end{equation}\n",
    "and rearrange it to:\n",
    "\\begin{equation}\n",
    "\\xi = \\Xi \\cdot\\xi_{max}\n",
    "\\end{equation}\n",
    "So how do we find $\\xi_{max}$? Use:\n",
    "\\begin{equation}\n",
    "\\xi_{max} = -\\frac{C_{J,0}}{\\alpha_J}\n",
    "\\end{equation}\n",
    "Let's put it all together:\n",
    "\\begin{equation}\n",
    "C_J = C_{J,0} + \\alpha_J \\Xi \\biggl(-\\frac{C_{J,0}}{\\alpha_J}\\biggr)\n",
    "\\end{equation}\n",
    "We can generalize this to:\n",
    "\\begin{equation}\n",
    "C_i = C_{i,0} + \\alpha_i \\Xi \\biggl(-\\frac{C_{J,0}}{\\alpha_J}\\biggr)\n",
    "\\end{equation}\n",
    "where i is any species and J is the limiting reactant"
   ]
  },
  {
   "cell_type": "code",
   "execution_count": 41,
   "metadata": {
    "ExecuteTime": {
     "end_time": "2017-09-11T21:13:52.453159Z",
     "start_time": "2017-09-11T21:13:51.621996Z"
    },
    "scrolled": true
   },
   "outputs": [
    {
     "data": {
      "image/png": "[encoded data removed]",
      "text/plain": [
       "<Figure size 432x288 with 1 Axes>"
      ]
     },
     "metadata": {},
     "output_type": "display_data"
    }
   ],
   "source": [
    "import numpy as np\n",
    "import matplotlib.pyplot as plt\n",
    "\n",
    "# The stoichiometric vector for thermal decomposition of ammonia\n",
    "alpha = np.array([-2, 1, 3])\n",
    "# The initial concentrations of ammonia, nitrogen, and hydrogen (mol/L)\n",
    "C0 = [100, 0, 0]\n",
    "\n",
    "def X(t):\n",
    "    ''' Function to calculate the extent of reaction given time, t '''\n",
    "    return (1-np.exp(-3*t**2))\n",
    "\n",
    "def C(t):\n",
    "    ''' Function to calculate the vector of species concentrations given time, t '''\n",
    "    return C0 + X(t)*alpha*(C0[0]/-alpha[0])\n",
    "\n",
    "Csave = []\n",
    "Xsave = []\n",
    "trange = np.arange(0, 2, 0.1)\n",
    "for t in trange:\n",
    "    Xsave.append(X(t))\n",
    "    Csave.append(C(t))\n",
    "\n",
    "fig, ax1 = plt.subplots()\n",
    "ax1.plot(trange, Csave)\n",
    "ax1.set_xlabel('Time [s]')\n",
    "ax1.set_ylabel('Concentration [mol/L]')\n",
    "ax1.legend(labels=['NH3', 'N2', 'H2'])\n",
    "plt.show()"
   ]
  },
  {
   "cell_type": "markdown",
   "metadata": {},
   "source": [
    "## Problem 1C\n",
    "The operator is worried that if the reaction continues to full extent the increase in the number of moles will drive the pressure too high.  Calculate the time it will take to achieve a 50% higher pressure in the reactor (assuming ideal gas) due to the increase in the number of moles, using fsolve."
   ]
  },
  {
   "cell_type": "code",
   "execution_count": 42,
   "metadata": {
    "ExecuteTime": {
     "end_time": "2017-09-11T17:58:03.688011Z",
     "start_time": "2017-09-11T17:58:03.356264Z"
    }
   },
   "outputs": [
    {
     "name": "stdout",
     "output_type": "stream",
     "text": [
      "50% increase in pressure at 0.48s\n"
     ]
    }
   ],
   "source": [
    "from scipy.optimize import fsolve\n",
    "\n",
    "def Nmol(t):\n",
    "    '''\n",
    "    This function calculates the total number of moles in the system as a function of time\n",
    "    '''\n",
    "    return np.sum(C(t))\n",
    "\n",
    "def objective(t):\n",
    "    '''\n",
    "    This is our objective function; we want to find when the total number of moles\n",
    "    in the system reaches 150\n",
    "    '''\n",
    "    return Nmol(t) - 150\n",
    "\n",
    "t50, = fsolve(objective, 0.5)\n",
    "print('50% increase in pressure at {0:.2f}s'.format(t50))"
   ]
  },
  {
   "cell_type": "markdown",
   "metadata": {},
   "source": [
    "# Problem 2:  Stoichiometry of reaction systems (3 pt)\n",
    "\n",
    "Consider the following set of chemical reactions:\n",
    "\n",
    "\\begin{equation*}\n",
    "\\ce{H2 + Br2 <=> 2HBr}\\\\\n",
    "\\ce{Br2 <=> 2Br}\\\\\n",
    "\\ce{Br+H2 <=> HBr+H}\\\\\n",
    "\\ce{H+Br2 <=> HBr+Br}\\\\\n",
    "\\ce{H+HBr <=> H2+Br}\\\\\n",
    "\\ce{2Br <=> Br2}\n",
    "\\end{equation*}\n",
    "\n"
   ]
  },
  {
   "cell_type": "markdown",
   "metadata": {},
   "source": [
    "## Determine the stoichiometric matrix $\\nu$, the species list $A$ for this reaction system (in text)"
   ]
  },
  {
   "cell_type": "markdown",
   "metadata": {},
   "source": [
    "A = [H, Br, H2, Br2, HBr]"
   ]
  },
  {
   "cell_type": "code",
   "execution_count": 43,
   "metadata": {},
   "outputs": [
    {
     "name": "stdout",
     "output_type": "stream",
     "text": [
      "[[0, 0, -1, -1, 2], [0, 2, 0, -1, 0], [1, -1, -1, 0, 1], [-1, 1, 0, -1, 1], [-1, 1, 1, 0, -1], [0, -2, 0, 1, 0]]\n"
     ]
    }
   ],
   "source": [
    "v = [[0, 0, -1, -1, 2],\n",
    "    [0, 2, 0, -1, 0],\n",
    "    [1, -1, -1, 0, 1],\n",
    "    [-1, 1, 0, -1, 1],\n",
    "    [-1, 1, 1, 0, -1],\n",
    "    [0, -2, 0, 1, 0]]\n",
    "\n",
    "print(v)"
   ]
  },
  {
   "cell_type": "markdown",
   "metadata": {},
   "source": [
    "## Determine the vector of molecular weights $MW$ and verify that all of the equations you have written obey mass balance"
   ]
  },
  {
   "cell_type": "code",
   "execution_count": 44,
   "metadata": {},
   "outputs": [
    {
     "name": "stdout",
     "output_type": "stream",
     "text": [
      "[0 0 0 0 0 0]\n"
     ]
    }
   ],
   "source": [
    "element_MW = [1, 79]\n",
    "species_to_element = [[1,0],[0,1],[2,0],[0,2],[1,1]]\n",
    "\n",
    "balance = np.matmul(np.matmul(v,species_to_element),element_MW)\n",
    "print(balance)"
   ]
  },
  {
   "cell_type": "markdown",
   "metadata": {},
   "source": [
    "## Determine the rank of the matrix using numpy or scipy. How many reactions are linearly independent?"
   ]
  },
  {
   "cell_type": "code",
   "execution_count": 45,
   "metadata": {},
   "outputs": [
    {
     "name": "stdout",
     "output_type": "stream",
     "text": [
      "There are 3 linearly independent reactions\n"
     ]
    }
   ],
   "source": [
    "from numpy.linalg import matrix_rank\n",
    "\n",
    "print('There are %d linearly independent reactions'%(matrix_rank(v)))"
   ]
  },
  {
   "cell_type": "markdown",
   "metadata": {},
   "source": [
    "## Now that you have found the number of independent reactions $n_i$, which $n_i$ of the original set of six reactions can be chosen as an independent set? Try guessing some set of $n_i$ reactions and determine the rank of the new stoichiometric matrix. Stop when you have determined successfully one or more sets of $n_i$ independent reactions."
   ]
  },
  {
   "cell_type": "markdown",
   "metadata": {},
   "source": [
    "There're 10 sets of independent sets:\n",
    "The 1st independent set: rxn 1, 2, and 3.\n",
    "The 2nd independent set: rxn 1, 2, and 4.\n",
    "The 3rd independent set: rxn 2, 3, and 4.\n",
    "The 4th independent set: rxn 1, 2, and 5.\n",
    "The 5th independent set: rxn 2, 4, and 5.\n",
    "The 6th independent set: rxn 1, 3, and 6.\n",
    "The 7th independent set: rxn 1, 4, and 6.\n",
    "The 8th independent set: rxn 3, 4, and 6.\n",
    "The 9th independent set: rxn 1, 5, and 6.\n",
    "The 10th independent set: rxn 4, 5, and 6.\n",
    "\n",
    "They can be determined by selecting a subset of the matrix (3 by 5) that has the rank of 3. "
   ]
  },
  {
   "cell_type": "code",
   "execution_count": null,
   "metadata": {},
   "outputs": [],
   "source": []
  }
 ],
 "metadata": {
  "kernelspec": {
   "display_name": "Python 3",
   "language": "python",
   "name": "python3"
  },
  "language_info": {
   "codemirror_mode": {
    "name": "ipython",
    "version": 3
   },
   "file_extension": ".py",
   "mimetype": "text/x-python",
   "name": "python",
   "nbconvert_exporter": "python",
   "pygments_lexer": "ipython3",
   "version": "3.6.3"
  },
  "toc": {
   "base_numbering": 1,
   "nav_menu": {
    "height": "173px",
    "width": "252px"
   },
   "number_sections": true,
   "sideBar": true,
   "skip_h1_title": false,
   "title_cell": "Table of Contents",
   "title_sidebar": "Contents",
   "toc_cell": false,
   "toc_position": {},
   "toc_section_display": "block",
   "toc_window_display": false
  }
 },
 "nbformat": 4,
 "nbformat_minor": 2
}
